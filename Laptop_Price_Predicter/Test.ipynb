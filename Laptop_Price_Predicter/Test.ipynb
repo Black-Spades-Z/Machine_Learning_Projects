{
 "cells": [
  {
   "cell_type": "code",
   "execution_count": 2,
   "metadata": {
    "collapsed": true,
    "pycharm": {
     "name": "#%%\n"
    }
   },
   "outputs": [],
   "source": []
  },
  {
   "cell_type": "code",
   "execution_count": 3,
   "outputs": [],
   "source": [
    "import pandas as pd\n",
    "from sklearn.preprocessing import LabelEncoder\n",
    "from sklearn.preprocessing import OneHotEncoder\n",
    "\n",
    "df = pd.read_csv(\"laptops.csv\", encoding=\"ISO-8859-1\") # Utf -8\n",
    "\n",
    "# df.reset_index(drop=True)\n",
    "listColumns = df.columns.to_list()\n",
    "listColumns = listColumns[1:]\n",
    "df = df[listColumns]\n",
    "price = df[\"Price_euros\"]*1.07\n",
    "\n",
    "#droping useless data\n",
    "\n",
    "df.drop(['Price_euros'],axis = 'columns', inplace=True)\n",
    "df.drop(['Product'],axis = 'columns', inplace=True)\n",
    "df.drop(['TypeName'],axis = 'columns', inplace=True)\n",
    "df.drop(['Inches'],axis = 'columns', inplace=True)\n",
    "df.drop(['Weight'],axis = 'columns', inplace=True)\n",
    "df.drop(['Gpu'],axis = 'columns', inplace=True)\n",
    "\n",
    "#simpification of long data\n",
    "\n",
    "cpu = df.Cpu\n",
    "for x in range(0,len(cpu)):\n",
    "\n",
    "    if 'Celeron' in cpu.iloc[x]:\n",
    "         cpu.iloc[x] = 'Celeron';\n",
    "    elif 'Core M' in cpu.iloc[x]:\n",
    "         cpu.iloc[x] = 'Core M';\n",
    "    elif 'Pentium' in cpu.iloc[x]:\n",
    "         cpu.iloc[x] = 'Pentium';\n",
    "    elif 'i3' in cpu.iloc[x]:\n",
    "         cpu.iloc[x] = 'i3';\n",
    "    elif 'i5' in cpu.iloc[x]:\n",
    "         cpu.iloc[x] = 'i5';\n",
    "    elif 'i7' in cpu.iloc[x]:\n",
    "         cpu.iloc[x] = 'i7';\n",
    "    elif 'i9' in cpu.iloc[x]:\n",
    "         cpu.iloc[x] = 'i9';\n",
    "    elif 'AMD A6' in cpu.iloc[x]:\n",
    "         cpu.iloc[x] = 'AMD A6';\n",
    "    elif 'AMD A9' in cpu.iloc[x]:\n",
    "         cpu.iloc[x] = 'AMD A9';\n",
    "    elif 'AMD A10' in cpu.iloc[x]:\n",
    "         cpu.iloc[x] = 'AMD A10';\n",
    "\n",
    "\n",
    "#encoding data\n",
    "\n",
    "\n",
    "# get_dummies encoding\n",
    "\n",
    "dummies_company = pd.get_dummies(df.Company)\n",
    "dummies_screenResolution = pd.get_dummies(df.ScreenResolution)\n",
    "dummies_cpu = pd.get_dummies(cpu)\n",
    "dummies_opSys = pd.get_dummies(df.OpSys)\n",
    "\n",
    "# label encoding\n",
    "\n",
    "ram = df.Ram\n",
    "for x in range(0,len(ram)):\n",
    "    if ram.iloc[x] == '2GB':\n",
    "         ram.iloc[x] = 0;\n",
    "    elif ram.iloc[x] == '4GB':\n",
    "         ram.iloc[x] = 1;\n",
    "    elif ram.iloc[x] == '6GB':\n",
    "         ram.iloc[x] = 2;\n",
    "    elif ram.iloc[x] == '8GB':\n",
    "         ram.iloc[x] = 3;\n",
    "    elif ram.iloc[x] == '12GB':\n",
    "         ram.iloc[x] = 4;\n",
    "    elif ram.iloc[x] == '16GB':\n",
    "         ram.iloc[x] = 5;\n",
    "    elif ram.iloc[x] == '24GB':\n",
    "         ram.iloc[x] = 6;\n",
    "    elif ram.iloc[x] == '64GB':\n",
    "         ram.iloc[x] = 7;\n",
    "\n",
    "\n",
    "\n",
    "\n",
    "label = LabelEncoder()\n",
    "label_memory = pd.DataFrame()\n",
    "label_memory['Memory'] = label.fit_transform(df.Memory)\n",
    "\n",
    "\n",
    "#droping after encoding\n",
    "\n",
    "df.drop(['Company'],axis = 'columns', inplace=True)\n",
    "df.drop(['ScreenResolution'],axis = 'columns', inplace=True)\n",
    "df.drop(['Ram'], axis='columns', inplace=True)\n",
    "df.drop(['Cpu'], axis='columns', inplace=True)\n",
    "df.drop(['Memory'], axis='columns', inplace=True)\n",
    "df.drop(['OpSys'], axis='columns', inplace=True)\n",
    "\n",
    "#joining data\n",
    "\n",
    "new_df = df.join([dummies_company, dummies_screenResolution, ram, dummies_cpu, dummies_opSys])\n",
    "\n",
    "\n",
    "new_df.drop(['Acer','Celeron','1366x768', 'No OS'], axis='columns', inplace=True)\n",
    "\n",
    "#creating model\n",
    "\n"
   ],
   "metadata": {
    "collapsed": false,
    "pycharm": {
     "name": "#%%\n"
    }
   }
  },
  {
   "cell_type": "code",
   "execution_count": 4,
   "outputs": [
    {
     "ename": "TypeError",
     "evalue": "__init__() got an unexpected keyword argument 'categorical_features'",
     "output_type": "error",
     "traceback": [
      "\u001B[1;31m---------------------------------------------------------------------------\u001B[0m",
      "\u001B[1;31mTypeError\u001B[0m                                 Traceback (most recent call last)",
      "Input \u001B[1;32mIn [4]\u001B[0m, in \u001B[0;36m<cell line: 1>\u001B[1;34m()\u001B[0m\n\u001B[1;32m----> 1\u001B[0m oh \u001B[38;5;241m=\u001B[39m \u001B[43mOneHotEncoder\u001B[49m\u001B[43m(\u001B[49m\u001B[43mcategorical_features\u001B[49m\u001B[38;5;241;43m=\u001B[39;49m\u001B[43m[\u001B[49m\u001B[38;5;241;43m0\u001B[39;49m\u001B[43m]\u001B[49m\u001B[43m)\u001B[49m\n\u001B[0;32m      2\u001B[0m X \u001B[38;5;241m=\u001B[39m oh\u001B[38;5;241m.\u001B[39mfit_transform(new_df)\u001B[38;5;241m.\u001B[39mtoarray()\n",
      "\u001B[1;31mTypeError\u001B[0m: __init__() got an unexpected keyword argument 'categorical_features'"
     ]
    }
   ],
   "source": [
    "oh = OneHotEncoder(categorical_features=[0])\n",
    "X = oh.fit_transform(new_df).toarray()\n"
   ],
   "metadata": {
    "collapsed": false,
    "pycharm": {
     "name": "#%%\n"
    }
   }
  },
  {
   "cell_type": "code",
   "execution_count": null,
   "outputs": [],
   "source": [
    "\n",
    "memory = df.Memory\n",
    "\n",
    "label = LabelEncoder()\n",
    "label_memory = pd.DataFrame()\n",
    "label_memory['Memory'] = label.fit_transform(memory.Memory)\n",
    "\n",
    "label_memory\n",
    "\n"
   ],
   "metadata": {
    "collapsed": false,
    "pycharm": {
     "name": "#%%\n"
    }
   }
  },
  {
   "cell_type": "code",
   "execution_count": null,
   "outputs": [],
   "source": [
    "cpu = df.Cpu\n",
    "for x in range(0,len(cpu)):\n",
    "\n",
    "    if 'Celeron' in cpu.iloc[x]:\n",
    "         cpu.iloc[x] = 'Celeron';\n",
    "    elif 'Core M' in cpu.iloc[x]:\n",
    "         cpu.iloc[x] = 'Core M';\n",
    "    elif 'Pentium' in cpu.iloc[x]:\n",
    "         cpu.iloc[x] = 'Pentium';\n",
    "    elif 'i3' in cpu.iloc[x]:\n",
    "         cpu.iloc[x] = 'i3';\n",
    "    elif 'i5' in cpu.iloc[x]:\n",
    "         cpu.iloc[x] = 'i5';\n",
    "    elif 'i7' in cpu.iloc[x]:\n",
    "         cpu.iloc[x] = 'i7';\n",
    "    elif 'i9' in cpu.iloc[x]:\n",
    "         cpu.iloc[x] = 'i9';\n",
    "    elif 'AMD A6' in cpu.iloc[x]:\n",
    "         cpu.iloc[x] = 'AMD A6';\n",
    "    elif 'AMD A9' in cpu.iloc[x]:\n",
    "         cpu.iloc[x] = 'AMD A9';\n",
    "    elif 'AMD A10' in cpu.iloc[x]:\n",
    "         cpu.iloc[x] = 'AMD A10';\n",
    "\n",
    "cpu.value_counts()"
   ],
   "metadata": {
    "collapsed": false,
    "pycharm": {
     "name": "#%%\n"
    }
   }
  },
  {
   "cell_type": "code",
   "execution_count": null,
   "outputs": [],
   "source": [
    "#Label encoding :)\n",
    "\n",
    "ram = df.Ram\n",
    "for x in range(0,len(ram)):\n",
    "    if ram.iloc[x] == '2GB':\n",
    "         ram.iloc[x] = 0;\n",
    "    elif ram.iloc[x] == '4GB':\n",
    "         ram.iloc[x] = 1;\n",
    "    elif ram.iloc[x] == '6GB':\n",
    "         ram.iloc[x] = 2;\n",
    "    elif ram.iloc[x] == '8GB':\n",
    "         ram.iloc[x] = 3;\n",
    "    elif ram.iloc[x] == '12GB':\n",
    "         ram.iloc[x] = 4;\n",
    "    elif ram.iloc[x] == '16GB':\n",
    "         ram.iloc[x] = 5;\n",
    "    elif ram.iloc[x] == '24GB':\n",
    "         ram.iloc[x] = 6;\n",
    "    elif ram.iloc[x] == '64GB':\n",
    "         ram.iloc[x] = 7;\n",
    "\n",
    "df.drop(['Ram'], axis='columns', inplace=True)\n"
   ],
   "metadata": {
    "collapsed": false,
    "pycharm": {
     "name": "#%%\n"
    }
   }
  },
  {
   "cell_type": "code",
   "execution_count": null,
   "outputs": [],
   "source": [],
   "metadata": {
    "collapsed": false,
    "pycharm": {
     "name": "#%%\n"
    }
   }
  },
  {
   "cell_type": "code",
   "execution_count": null,
   "outputs": [],
   "source": [
    "dummies_company = pd.get_dummies(df.Company)\n",
    "df.drop(['Company'],axis = 'columns', inplace=True)\n",
    "\n",
    "new_df = df.join(dummies_company)\n",
    "new_df.head()"
   ],
   "metadata": {
    "collapsed": false,
    "pycharm": {
     "name": "#%%\n"
    }
   }
  },
  {
   "cell_type": "code",
   "execution_count": null,
   "outputs": [],
   "source": [
    "# df_company= df[['Company']]\n",
    "# company_encoder = OneHotEncoder()\n",
    "# oh_company = company_encoder.fit_transform(df_company).toarray()\n",
    "# oh_company_df = pd.DataFrame(oh_company)\n",
    "# df_company.join(oh_company)\n",
    "# df_company.drop(['Company'], axis = 1, inplace=True)\n",
    "# df.company"
   ],
   "metadata": {
    "collapsed": false,
    "pycharm": {
     "name": "#%%\n"
    }
   }
  }
 ],
 "metadata": {
  "kernelspec": {
   "display_name": "Python 3",
   "language": "python",
   "name": "python3"
  },
  "language_info": {
   "codemirror_mode": {
    "name": "ipython",
    "version": 2
   },
   "file_extension": ".py",
   "mimetype": "text/x-python",
   "name": "python",
   "nbconvert_exporter": "python",
   "pygments_lexer": "ipython2",
   "version": "2.7.6"
  }
 },
 "nbformat": 4,
 "nbformat_minor": 0
}