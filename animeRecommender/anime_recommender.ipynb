{
 "cells": [
  {
   "cell_type": "markdown",
   "source": [
    "Importing library"
   ],
   "metadata": {
    "collapsed": false,
    "pycharm": {
     "name": "#%% md\n"
    }
   }
  },
  {
   "cell_type": "code",
   "execution_count": 1,
   "outputs": [],
   "source": [
    "import pandas as pd\n",
    "from sklearn.metrics.pairwise import cosine_similarity"
   ],
   "metadata": {
    "collapsed": false,
    "pycharm": {
     "name": "#%%\n"
    }
   }
  },
  {
   "cell_type": "markdown",
   "source": [
    "Reading csv anime"
   ],
   "metadata": {
    "collapsed": false,
    "pycharm": {
     "name": "#%% md\n"
    }
   }
  },
  {
   "cell_type": "code",
   "execution_count": 2,
   "outputs": [
    {
     "name": "stdout",
     "output_type": "stream",
     "text": [
      "<class 'pandas.core.frame.DataFrame'>\n",
      "RangeIndex: 17562 entries, 0 to 17561\n",
      "Data columns (total 3 columns):\n",
      " #   Column  Non-Null Count  Dtype \n",
      "---  ------  --------------  ----- \n",
      " 0   MAL_ID  17562 non-null  int64 \n",
      " 1   Name    17562 non-null  object\n",
      " 2   Score   17562 non-null  object\n",
      "dtypes: int64(1), object(2)\n",
      "memory usage: 411.7+ KB\n"
     ]
    }
   ],
   "source": [
    "anime_df = pd.read_csv('data/anime.csv', index_col=False)\n",
    "anime_1 = anime_df[['MAL_ID', 'Name', 'Score']]\n",
    "anime_1.info()"
   ],
   "metadata": {
    "collapsed": false,
    "pycharm": {
     "name": "#%%\n"
    }
   }
  },
  {
   "cell_type": "markdown",
   "source": [
    "Dropping unknown labels"
   ],
   "metadata": {
    "collapsed": false,
    "pycharm": {
     "name": "#%% md\n"
    }
   }
  },
  {
   "cell_type": "code",
   "execution_count": 3,
   "outputs": [
    {
     "name": "stdout",
     "output_type": "stream",
     "text": [
      "<class 'pandas.core.frame.DataFrame'>\n",
      "Int64Index: 12421 entries, 0 to 12420\n",
      "Data columns (total 3 columns):\n",
      " #   Column  Non-Null Count  Dtype  \n",
      "---  ------  --------------  -----  \n",
      " 0   MAL_ID  12421 non-null  int64  \n",
      " 1   Name    12421 non-null  object \n",
      " 2   Score   12421 non-null  float64\n",
      "dtypes: float64(1), int64(1), object(1)\n",
      "memory usage: 388.2+ KB\n"
     ]
    }
   ],
   "source": [
    "anime = pd.DataFrame({'MAL_ID':[1], 'Name': ['Cowboy Bebop'], 'Score': ['8.78'] })\n",
    "\n",
    "i = 0\n",
    "\n",
    "for x in range(1, len(anime_1)):\n",
    "    if anime_1.iloc[x].Score != 'Unknown':\n",
    "        i+=1\n",
    "        anime.loc[i] = anime_1.iloc[x].to_list()\n",
    "\n",
    "anime['Score'] = anime['Score'].astype('float64')\n",
    "anime.info()"
   ],
   "metadata": {
    "collapsed": false,
    "pycharm": {
     "name": "#%%\n"
    }
   }
  },
  {
   "cell_type": "code",
   "execution_count": 4,
   "outputs": [
    {
     "data": {
      "text/plain": "   MAL_ID          Name  Score\n0       1  Cowboy Bebop   8.78",
      "text/html": "<div>\n<style scoped>\n    .dataframe tbody tr th:only-of-type {\n        vertical-align: middle;\n    }\n\n    .dataframe tbody tr th {\n        vertical-align: top;\n    }\n\n    .dataframe thead th {\n        text-align: right;\n    }\n</style>\n<table border=\"1\" class=\"dataframe\">\n  <thead>\n    <tr style=\"text-align: right;\">\n      <th></th>\n      <th>MAL_ID</th>\n      <th>Name</th>\n      <th>Score</th>\n    </tr>\n  </thead>\n  <tbody>\n    <tr>\n      <th>0</th>\n      <td>1</td>\n      <td>Cowboy Bebop</td>\n      <td>8.78</td>\n    </tr>\n  </tbody>\n</table>\n</div>"
     },
     "execution_count": 4,
     "metadata": {},
     "output_type": "execute_result"
    }
   ],
   "source": [
    "anime.head(1)"
   ],
   "metadata": {
    "collapsed": false,
    "pycharm": {
     "name": "#%%\n"
    }
   }
  },
  {
   "cell_type": "markdown",
   "source": [
    "Taking anime only with 7 + Score"
   ],
   "metadata": {
    "collapsed": false,
    "pycharm": {
     "name": "#%% md\n"
    }
   }
  },
  {
   "cell_type": "code",
   "execution_count": 5,
   "outputs": [
    {
     "name": "stdout",
     "output_type": "stream",
     "text": [
      "<class 'pandas.core.frame.DataFrame'>\n",
      "Int64Index: 3780 entries, 0 to 3779\n",
      "Data columns (total 3 columns):\n",
      " #   Column  Non-Null Count  Dtype \n",
      "---  ------  --------------  ----- \n",
      " 0   MAL_ID  3780 non-null   int64 \n",
      " 1   Name    3780 non-null   object\n",
      " 2   Score   3780 non-null   object\n",
      "dtypes: int64(1), object(2)\n",
      "memory usage: 118.1+ KB\n"
     ]
    }
   ],
   "source": [
    "temp_anime = pd.DataFrame({'MAL_ID':[1], 'Name': ['Cowboy Bebop'], 'Score': ['8.78']})\n",
    "i = 0\n",
    "\n",
    "for x in range(1, len(anime)):\n",
    "    if anime.iloc[x].Score >= 7.00:\n",
    "        i +=1\n",
    "        temp_anime.loc[i] = anime.iloc[x]\n",
    "\n",
    "\n",
    "temp_anime.info()"
   ],
   "metadata": {
    "collapsed": false,
    "pycharm": {
     "name": "#%%\n"
    }
   }
  },
  {
   "cell_type": "markdown",
   "source": [
    "As we picked up 7 + score anime, we don't need Score column and temp dataframe, also we need to change MAL_ID to anime_id as we have to connect it to another bigger dataframe with this column"
   ],
   "metadata": {
    "collapsed": false,
    "pycharm": {
     "name": "#%% md\n"
    }
   }
  },
  {
   "cell_type": "code",
   "execution_count": 6,
   "outputs": [
    {
     "data": {
      "text/plain": "    anime_id                             Name\n0          1                     Cowboy Bebop\n1          5  Cowboy Bebop: Tengoku no Tobira\n2          6                           Trigun\n3          7               Witch Hunter Robin\n4         15                     Eyeshield 21\n..       ...                              ...\n95       147              Kimi ga Nozomu Eien\n96       150                           Blood+\n97       151                  Re: Cutey Honey\n98       152                        Solty Rei\n99       153                     Juuni Kokuki\n\n[100 rows x 2 columns]",
      "text/html": "<div>\n<style scoped>\n    .dataframe tbody tr th:only-of-type {\n        vertical-align: middle;\n    }\n\n    .dataframe tbody tr th {\n        vertical-align: top;\n    }\n\n    .dataframe thead th {\n        text-align: right;\n    }\n</style>\n<table border=\"1\" class=\"dataframe\">\n  <thead>\n    <tr style=\"text-align: right;\">\n      <th></th>\n      <th>anime_id</th>\n      <th>Name</th>\n    </tr>\n  </thead>\n  <tbody>\n    <tr>\n      <th>0</th>\n      <td>1</td>\n      <td>Cowboy Bebop</td>\n    </tr>\n    <tr>\n      <th>1</th>\n      <td>5</td>\n      <td>Cowboy Bebop: Tengoku no Tobira</td>\n    </tr>\n    <tr>\n      <th>2</th>\n      <td>6</td>\n      <td>Trigun</td>\n    </tr>\n    <tr>\n      <th>3</th>\n      <td>7</td>\n      <td>Witch Hunter Robin</td>\n    </tr>\n    <tr>\n      <th>4</th>\n      <td>15</td>\n      <td>Eyeshield 21</td>\n    </tr>\n    <tr>\n      <th>...</th>\n      <td>...</td>\n      <td>...</td>\n    </tr>\n    <tr>\n      <th>95</th>\n      <td>147</td>\n      <td>Kimi ga Nozomu Eien</td>\n    </tr>\n    <tr>\n      <th>96</th>\n      <td>150</td>\n      <td>Blood+</td>\n    </tr>\n    <tr>\n      <th>97</th>\n      <td>151</td>\n      <td>Re: Cutey Honey</td>\n    </tr>\n    <tr>\n      <th>98</th>\n      <td>152</td>\n      <td>Solty Rei</td>\n    </tr>\n    <tr>\n      <th>99</th>\n      <td>153</td>\n      <td>Juuni Kokuki</td>\n    </tr>\n  </tbody>\n</table>\n<p>100 rows × 2 columns</p>\n</div>"
     },
     "execution_count": 6,
     "metadata": {},
     "output_type": "execute_result"
    }
   ],
   "source": [
    "del anime\n",
    "anime = temp_anime[['MAL_ID', 'Name']]\n",
    "anime.reset_index(inplace=True, drop=True)\n",
    "anime = anime.rename(columns={'MAL_ID' : 'anime_id'})\n",
    "anime.head(100)"
   ],
   "metadata": {
    "collapsed": false,
    "pycharm": {
     "name": "#%%\n"
    }
   }
  },
  {
   "cell_type": "markdown",
   "source": [],
   "metadata": {
    "collapsed": false,
    "pycharm": {
     "name": "#%% md\n"
    }
   }
  },
  {
   "cell_type": "code",
   "execution_count": 7,
   "outputs": [
    {
     "name": "stdout",
     "output_type": "stream",
     "text": [
      "<class 'pandas.core.frame.DataFrame'>\n",
      "RangeIndex: 3780 entries, 0 to 3779\n",
      "Data columns (total 2 columns):\n",
      " #   Column    Non-Null Count  Dtype \n",
      "---  ------    --------------  ----- \n",
      " 0   anime_id  3780 non-null   int64 \n",
      " 1   Name      3780 non-null   object\n",
      "dtypes: int64(1), object(1)\n",
      "memory usage: 59.2+ KB\n"
     ]
    }
   ],
   "source": [
    "anime.info()"
   ],
   "metadata": {
    "collapsed": false,
    "pycharm": {
     "name": "#%%\n"
    }
   }
  },
  {
   "cell_type": "markdown",
   "source": [
    "Reading the Bigger column with rates by watchers"
   ],
   "metadata": {
    "collapsed": false,
    "pycharm": {
     "name": "#%% md\n"
    }
   }
  },
  {
   "cell_type": "code",
   "execution_count": 8,
   "outputs": [],
   "source": [
    "anime_watchers_df = pd.read_csv('data/rating_complete.csv')\n"
   ],
   "metadata": {
    "collapsed": false,
    "pycharm": {
     "name": "#%%\n"
    }
   }
  },
  {
   "cell_type": "code",
   "execution_count": 9,
   "outputs": [
    {
     "name": "stdout",
     "output_type": "stream",
     "text": [
      "<class 'pandas.core.frame.DataFrame'>\n",
      "RangeIndex: 400000 entries, 0 to 399999\n",
      "Data columns (total 3 columns):\n",
      " #   Column    Non-Null Count   Dtype\n",
      "---  ------    --------------   -----\n",
      " 0   user_id   400000 non-null  int64\n",
      " 1   anime_id  400000 non-null  int64\n",
      " 2   rating    400000 non-null  int64\n",
      "dtypes: int64(3)\n",
      "memory usage: 9.2 MB\n"
     ]
    }
   ],
   "source": [
    "anime_watchers_df = anime_watchers_df.head(400000)\n",
    "anime_watchers_df.reset_index(inplace=True,drop=True)\n",
    "\n",
    "anime_watchers_df.info()"
   ],
   "metadata": {
    "collapsed": false,
    "pycharm": {
     "name": "#%%\n"
    }
   }
  },
  {
   "cell_type": "code",
   "execution_count": 10,
   "outputs": [
    {
     "data": {
      "text/plain": "   user_id  anime_id  rating\n0        0       430       9\n1        0      1004       5\n2        0      3010       7\n3        0       570       7\n4        0      2762       9",
      "text/html": "<div>\n<style scoped>\n    .dataframe tbody tr th:only-of-type {\n        vertical-align: middle;\n    }\n\n    .dataframe tbody tr th {\n        vertical-align: top;\n    }\n\n    .dataframe thead th {\n        text-align: right;\n    }\n</style>\n<table border=\"1\" class=\"dataframe\">\n  <thead>\n    <tr style=\"text-align: right;\">\n      <th></th>\n      <th>user_id</th>\n      <th>anime_id</th>\n      <th>rating</th>\n    </tr>\n  </thead>\n  <tbody>\n    <tr>\n      <th>0</th>\n      <td>0</td>\n      <td>430</td>\n      <td>9</td>\n    </tr>\n    <tr>\n      <th>1</th>\n      <td>0</td>\n      <td>1004</td>\n      <td>5</td>\n    </tr>\n    <tr>\n      <th>2</th>\n      <td>0</td>\n      <td>3010</td>\n      <td>7</td>\n    </tr>\n    <tr>\n      <th>3</th>\n      <td>0</td>\n      <td>570</td>\n      <td>7</td>\n    </tr>\n    <tr>\n      <th>4</th>\n      <td>0</td>\n      <td>2762</td>\n      <td>9</td>\n    </tr>\n  </tbody>\n</table>\n</div>"
     },
     "execution_count": 10,
     "metadata": {},
     "output_type": "execute_result"
    }
   ],
   "source": [
    "anime_watchers_df.head()"
   ],
   "metadata": {
    "collapsed": false,
    "pycharm": {
     "name": "#%%\n"
    }
   }
  },
  {
   "cell_type": "markdown",
   "source": [
    "We need list of anime ids to take only 7 + of them"
   ],
   "metadata": {
    "collapsed": false,
    "pycharm": {
     "name": "#%% md\n"
    }
   }
  },
  {
   "cell_type": "code",
   "execution_count": 11,
   "outputs": [],
   "source": [
    "anime_watchers = pd.DataFrame()"
   ],
   "metadata": {
    "collapsed": false,
    "pycharm": {
     "name": "#%%\n"
    }
   }
  },
  {
   "cell_type": "code",
   "execution_count": 12,
   "outputs": [
    {
     "name": "stdout",
     "output_type": "stream",
     "text": [
      "<class 'pandas.core.frame.DataFrame'>\n",
      "Int64Index: 311893 entries, 0 to 311892\n",
      "Data columns (total 4 columns):\n",
      " #   Column    Non-Null Count   Dtype \n",
      "---  ------    --------------   ----- \n",
      " 0   user_id   311893 non-null  int64 \n",
      " 1   anime_id  311893 non-null  int64 \n",
      " 2   rating    311893 non-null  int64 \n",
      " 3   Name      311893 non-null  object\n",
      "dtypes: int64(3), object(1)\n",
      "memory usage: 11.9+ MB\n"
     ]
    }
   ],
   "source": [
    "\n",
    "anime_watchers = pd.merge(anime_watchers_df, anime, on='anime_id')\n",
    "\n",
    "anime_watchers.info()"
   ],
   "metadata": {
    "collapsed": false,
    "pycharm": {
     "name": "#%%\n"
    }
   }
  },
  {
   "cell_type": "markdown",
   "source": [
    "Checking for null values"
   ],
   "metadata": {
    "collapsed": false,
    "pycharm": {
     "name": "#%% md\n"
    }
   }
  },
  {
   "cell_type": "code",
   "execution_count": 13,
   "outputs": [
    {
     "data": {
      "text/plain": "user_id     0\nanime_id    0\nrating      0\nName        0\ndtype: int64"
     },
     "execution_count": 13,
     "metadata": {},
     "output_type": "execute_result"
    }
   ],
   "source": [
    "anime_watchers.isnull().sum()"
   ],
   "metadata": {
    "collapsed": false,
    "pycharm": {
     "name": "#%%\n"
    }
   }
  },
  {
   "cell_type": "markdown",
   "source": [
    "Creating pivot table but still we don't need Names, we just save it somewhere for a while . . ."
   ],
   "metadata": {
    "collapsed": false,
    "pycharm": {
     "name": "#%% md\n"
    }
   }
  },
  {
   "cell_type": "code",
   "execution_count": 14,
   "outputs": [
    {
     "data": {
      "text/plain": "Name     \"Bungaku Shoujo\" Memoire  \"Bungaku Shoujo\" Movie  \\\nuser_id                                                     \n0                             NaN                     NaN   \n1                             NaN                     NaN   \n2                             NaN                     NaN   \n3                             NaN                     NaN   \n4                             NaN                     NaN   \n\nName     .hack//G.U. Trilogy  .hack//Quantum  \\\nuser_id                                        \n0                        NaN             NaN   \n1                        NaN             NaN   \n2                        NaN             NaN   \n3                        NaN             NaN   \n4                        NaN             NaN   \n\nName     .hack//The Movie: Sekai no Mukou ni  07-Ghost  11-nin Iru!  \\\nuser_id                                                               \n0                                        NaN       NaN          NaN   \n1                                        NaN       NaN          NaN   \n2                                        NaN       NaN          NaN   \n3                                        NaN       NaN          NaN   \n4                                        NaN       NaN          NaN   \n\nName     3-gatsu no Lion  3-gatsu no Lion 2nd Season  \\\nuser_id                                                \n0                    NaN                         NaN   \n1                    NaN                         NaN   \n2                    NaN                         NaN   \n3                    9.0                         NaN   \n4                    NaN                         NaN   \n\nName     3-gatsu no Lion meets Bump of Chicken  ...  \\\nuser_id                                         ...   \n0                                          NaN  ...   \n1                                          NaN  ...   \n2                                          NaN  ...   \n3                                          NaN  ...   \n4                                          NaN  ...   \n\nName     ef: A Tale of Melodies. - Prologue  ef: A Tale of Memories.  \\\nuser_id                                                                \n0                                       NaN                      NaN   \n1                                       NaN                      NaN   \n2                                       NaN                      NaN   \n3                                       NaN                      NaN   \n4                                       NaN                      NaN   \n\nName     ef: A Tale of Memories. - Prologue  \\\nuser_id                                       \n0                                       NaN   \n1                                       NaN   \n2                                       NaN   \n3                                       NaN   \n4                                       NaN   \n\nName     ef: A Tale of Memories. - Recollections  s.CRY.ed  xxxHOLiC  \\\nuser_id                                                                \n0                                            NaN       NaN       NaN   \n1                                            NaN       NaN       NaN   \n2                                            NaN       NaN       NaN   \n3                                            NaN       NaN       NaN   \n4                                            NaN       NaN       8.0   \n\nName     xxxHOLiC Kei  xxxHOLiC Movie: Manatsu no Yoru no Yume  xxxHOLiC Rou  \\\nuser_id                                                                        \n0                 NaN                                      NaN           NaN   \n1                 NaN                                      NaN           NaN   \n2                 NaN                                      NaN           NaN   \n3                 NaN                                      NaN           NaN   \n4                 9.0                                      NaN           NaN   \n\nName     xxxHOLiC Shunmuki  \nuser_id                     \n0                      NaN  \n1                      NaN  \n2                      NaN  \n3                      NaN  \n4                      8.0  \n\n[5 rows x 3674 columns]",
      "text/html": "<div>\n<style scoped>\n    .dataframe tbody tr th:only-of-type {\n        vertical-align: middle;\n    }\n\n    .dataframe tbody tr th {\n        vertical-align: top;\n    }\n\n    .dataframe thead th {\n        text-align: right;\n    }\n</style>\n<table border=\"1\" class=\"dataframe\">\n  <thead>\n    <tr style=\"text-align: right;\">\n      <th>Name</th>\n      <th>\"Bungaku Shoujo\" Memoire</th>\n      <th>\"Bungaku Shoujo\" Movie</th>\n      <th>.hack//G.U. Trilogy</th>\n      <th>.hack//Quantum</th>\n      <th>.hack//The Movie: Sekai no Mukou ni</th>\n      <th>07-Ghost</th>\n      <th>11-nin Iru!</th>\n      <th>3-gatsu no Lion</th>\n      <th>3-gatsu no Lion 2nd Season</th>\n      <th>3-gatsu no Lion meets Bump of Chicken</th>\n      <th>...</th>\n      <th>ef: A Tale of Melodies. - Prologue</th>\n      <th>ef: A Tale of Memories.</th>\n      <th>ef: A Tale of Memories. - Prologue</th>\n      <th>ef: A Tale of Memories. - Recollections</th>\n      <th>s.CRY.ed</th>\n      <th>xxxHOLiC</th>\n      <th>xxxHOLiC Kei</th>\n      <th>xxxHOLiC Movie: Manatsu no Yoru no Yume</th>\n      <th>xxxHOLiC Rou</th>\n      <th>xxxHOLiC Shunmuki</th>\n    </tr>\n    <tr>\n      <th>user_id</th>\n      <th></th>\n      <th></th>\n      <th></th>\n      <th></th>\n      <th></th>\n      <th></th>\n      <th></th>\n      <th></th>\n      <th></th>\n      <th></th>\n      <th></th>\n      <th></th>\n      <th></th>\n      <th></th>\n      <th></th>\n      <th></th>\n      <th></th>\n      <th></th>\n      <th></th>\n      <th></th>\n      <th></th>\n    </tr>\n  </thead>\n  <tbody>\n    <tr>\n      <th>0</th>\n      <td>NaN</td>\n      <td>NaN</td>\n      <td>NaN</td>\n      <td>NaN</td>\n      <td>NaN</td>\n      <td>NaN</td>\n      <td>NaN</td>\n      <td>NaN</td>\n      <td>NaN</td>\n      <td>NaN</td>\n      <td>...</td>\n      <td>NaN</td>\n      <td>NaN</td>\n      <td>NaN</td>\n      <td>NaN</td>\n      <td>NaN</td>\n      <td>NaN</td>\n      <td>NaN</td>\n      <td>NaN</td>\n      <td>NaN</td>\n      <td>NaN</td>\n    </tr>\n    <tr>\n      <th>1</th>\n      <td>NaN</td>\n      <td>NaN</td>\n      <td>NaN</td>\n      <td>NaN</td>\n      <td>NaN</td>\n      <td>NaN</td>\n      <td>NaN</td>\n      <td>NaN</td>\n      <td>NaN</td>\n      <td>NaN</td>\n      <td>...</td>\n      <td>NaN</td>\n      <td>NaN</td>\n      <td>NaN</td>\n      <td>NaN</td>\n      <td>NaN</td>\n      <td>NaN</td>\n      <td>NaN</td>\n      <td>NaN</td>\n      <td>NaN</td>\n      <td>NaN</td>\n    </tr>\n    <tr>\n      <th>2</th>\n      <td>NaN</td>\n      <td>NaN</td>\n      <td>NaN</td>\n      <td>NaN</td>\n      <td>NaN</td>\n      <td>NaN</td>\n      <td>NaN</td>\n      <td>NaN</td>\n      <td>NaN</td>\n      <td>NaN</td>\n      <td>...</td>\n      <td>NaN</td>\n      <td>NaN</td>\n      <td>NaN</td>\n      <td>NaN</td>\n      <td>NaN</td>\n      <td>NaN</td>\n      <td>NaN</td>\n      <td>NaN</td>\n      <td>NaN</td>\n      <td>NaN</td>\n    </tr>\n    <tr>\n      <th>3</th>\n      <td>NaN</td>\n      <td>NaN</td>\n      <td>NaN</td>\n      <td>NaN</td>\n      <td>NaN</td>\n      <td>NaN</td>\n      <td>NaN</td>\n      <td>9.0</td>\n      <td>NaN</td>\n      <td>NaN</td>\n      <td>...</td>\n      <td>NaN</td>\n      <td>NaN</td>\n      <td>NaN</td>\n      <td>NaN</td>\n      <td>NaN</td>\n      <td>NaN</td>\n      <td>NaN</td>\n      <td>NaN</td>\n      <td>NaN</td>\n      <td>NaN</td>\n    </tr>\n    <tr>\n      <th>4</th>\n      <td>NaN</td>\n      <td>NaN</td>\n      <td>NaN</td>\n      <td>NaN</td>\n      <td>NaN</td>\n      <td>NaN</td>\n      <td>NaN</td>\n      <td>NaN</td>\n      <td>NaN</td>\n      <td>NaN</td>\n      <td>...</td>\n      <td>NaN</td>\n      <td>NaN</td>\n      <td>NaN</td>\n      <td>NaN</td>\n      <td>NaN</td>\n      <td>8.0</td>\n      <td>9.0</td>\n      <td>NaN</td>\n      <td>NaN</td>\n      <td>8.0</td>\n    </tr>\n  </tbody>\n</table>\n<p>5 rows × 3674 columns</p>\n</div>"
     },
     "execution_count": 14,
     "metadata": {},
     "output_type": "execute_result"
    }
   ],
   "source": [
    "table = pd.pivot_table(anime_watchers, values='rating', columns='Name', index='user_id')\n",
    "\n",
    "table.head()"
   ],
   "metadata": {
    "collapsed": false,
    "pycharm": {
     "name": "#%%\n"
    }
   }
  },
  {
   "cell_type": "markdown",
   "source": [
    "We need now means for all watchers and subtract it from the rate in order to make 0 neutral, not negative rate"
   ],
   "metadata": {
    "collapsed": false,
    "pycharm": {
     "name": "#%% md\n"
    }
   }
  },
  {
   "cell_type": "markdown",
   "source": [
    "Creating function for finding similar anime"
   ],
   "metadata": {
    "collapsed": false,
    "pycharm": {
     "name": "#%% md\n"
    }
   }
  },
  {
   "cell_type": "code",
   "execution_count": 23,
   "outputs": [],
   "source": [
    "def get_similar_anime(anime_name, anime_score):\n",
    "    similar_score = item_similarity_df[anime_name]*(anime_score)\n",
    "    similar_score = similar_score.sort_values(ascending=False)\n",
    "\n",
    "    return similar_score"
   ],
   "metadata": {
    "collapsed": false,
    "pycharm": {
     "name": "#%%\n"
    }
   }
  },
  {
   "cell_type": "markdown",
   "source": [
    "Creating function for standardizing"
   ],
   "metadata": {
    "collapsed": false,
    "pycharm": {
     "name": "#%% md\n"
    }
   }
  },
  {
   "cell_type": "code",
   "execution_count": 16,
   "outputs": [],
   "source": [
    "def standardize(row):\n",
    "    new_row = (row - row.mean())/(row.max() - row.min())\n",
    "    return new_row\n",
    "\n",
    "table_std = table.apply(standardize)"
   ],
   "metadata": {
    "collapsed": false,
    "pycharm": {
     "name": "#%%\n"
    }
   }
  },
  {
   "cell_type": "markdown",
   "source": [
    "Filling NaN"
   ],
   "metadata": {
    "collapsed": false,
    "pycharm": {
     "name": "#%% md\n"
    }
   }
  },
  {
   "cell_type": "code",
   "execution_count": 17,
   "outputs": [],
   "source": [
    "table_std.fillna(0, inplace=True)"
   ],
   "metadata": {
    "collapsed": false,
    "pycharm": {
     "name": "#%%\n"
    }
   }
  },
  {
   "cell_type": "markdown",
   "source": [
    "Implementing cosine similarity"
   ],
   "metadata": {
    "collapsed": false,
    "pycharm": {
     "name": "#%% md\n"
    }
   }
  },
  {
   "cell_type": "code",
   "execution_count": 24,
   "outputs": [
    {
     "data": {
      "text/plain": "Name                                   \"Bungaku Shoujo\" Memoire  \\\nName                                                              \n\"Bungaku Shoujo\" Memoire                               1.000000   \n\"Bungaku Shoujo\" Movie                                 0.449992   \n.hack//G.U. Trilogy                                    0.077268   \n.hack//Quantum                                         0.019007   \n.hack//The Movie: Sekai no Mukou ni                    0.022523   \n...                                                         ...   \nAsobi Asobase Specials                                 0.000000   \nAstro Boy: Tetsuwan Atom                               0.021590   \nAsura                                                  0.020510   \nAsura Cryin' 2                                         0.014943   \nAura: Maryuuin Kouga Saigo no Tatakai                  0.072681   \n\nName                                   \"Bungaku Shoujo\" Movie  \\\nName                                                            \n\"Bungaku Shoujo\" Memoire                             0.449992   \n\"Bungaku Shoujo\" Movie                               1.000000   \n.hack//G.U. Trilogy                                  0.036838   \n.hack//Quantum                                       0.042507   \n.hack//The Movie: Sekai no Mukou ni                 -0.000399   \n...                                                       ...   \nAsobi Asobase Specials                               0.000000   \nAstro Boy: Tetsuwan Atom                            -0.004776   \nAsura                                               -0.009906   \nAsura Cryin' 2                                       0.022397   \nAura: Maryuuin Kouga Saigo no Tatakai                0.042487   \n\nName                                   .hack//G.U. Trilogy  .hack//Quantum  \\\nName                                                                         \n\"Bungaku Shoujo\" Memoire                          0.077268        0.019007   \n\"Bungaku Shoujo\" Movie                            0.036838        0.042507   \n.hack//G.U. Trilogy                               1.000000        0.244860   \n.hack//Quantum                                    0.244860        1.000000   \n.hack//The Movie: Sekai no Mukou ni               0.223819        0.298833   \n...                                                    ...             ...   \nAsobi Asobase Specials                           -0.026701        0.012692   \nAstro Boy: Tetsuwan Atom                          0.027847        0.027310   \nAsura                                             0.244212        0.102109   \nAsura Cryin' 2                                    0.010022        0.017021   \nAura: Maryuuin Kouga Saigo no Tatakai             0.041466        0.081523   \n\nName                                   .hack//The Movie: Sekai no Mukou ni  \\\nName                                                                         \n\"Bungaku Shoujo\" Memoire                                          0.022523   \n\"Bungaku Shoujo\" Movie                                           -0.000399   \n.hack//G.U. Trilogy                                               0.223819   \n.hack//Quantum                                                    0.298833   \n.hack//The Movie: Sekai no Mukou ni                               1.000000   \n...                                                                    ...   \nAsobi Asobase Specials                                            0.000000   \nAstro Boy: Tetsuwan Atom                                          0.032361   \nAsura                                                             0.067012   \nAsura Cryin' 2                                                    0.027235   \nAura: Maryuuin Kouga Saigo no Tatakai                             0.060819   \n\nName                                   07-Ghost  11-nin Iru!  3-gatsu no Lion  \\\nName                                                                            \n\"Bungaku Shoujo\" Memoire               0.031480     0.063929         0.022810   \n\"Bungaku Shoujo\" Movie                 0.015066     0.040884        -0.004411   \n.hack//G.U. Trilogy                    0.112612     0.082477         0.193434   \n.hack//Quantum                        -0.000531    -0.137178        -0.026704   \n.hack//The Movie: Sekai no Mukou ni    0.015223     0.004819        -0.023694   \n...                                         ...          ...              ...   \nAsobi Asobase Specials                 0.000000    -0.076260         0.015914   \nAstro Boy: Tetsuwan Atom              -0.017194     0.000000         0.068999   \nAsura                                  0.006496     0.034948         0.123545   \nAsura Cryin' 2                         0.023463     0.000000         0.011956   \nAura: Maryuuin Kouga Saigo no Tatakai  0.021871     0.016068         0.026907   \n\nName                                   3-gatsu no Lion 2nd Season  \\\nName                                                                \n\"Bungaku Shoujo\" Memoire                                 0.000267   \n\"Bungaku Shoujo\" Movie                                   0.005326   \n.hack//G.U. Trilogy                                      0.257176   \n.hack//Quantum                                          -0.004033   \n.hack//The Movie: Sekai no Mukou ni                     -0.034214   \n...                                                           ...   \nAsobi Asobase Specials                                  -0.018037   \nAstro Boy: Tetsuwan Atom                                 0.123735   \nAsura                                                    0.181973   \nAsura Cryin' 2                                          -0.017033   \nAura: Maryuuin Kouga Saigo no Tatakai                    0.037599   \n\nName                                   3-gatsu no Lion meets Bump of Chicken  \\\nName                                                                           \n\"Bungaku Shoujo\" Memoire                                            0.081941   \n\"Bungaku Shoujo\" Movie                                             -0.015798   \n.hack//G.U. Trilogy                                                -0.000809   \n.hack//Quantum                                                     -0.007493   \n.hack//The Movie: Sekai no Mukou ni                                -0.002623   \n...                                                                      ...   \nAsobi Asobase Specials                                              0.131412   \nAstro Boy: Tetsuwan Atom                                           -0.002286   \nAsura                                                              -0.010782   \nAsura Cryin' 2                                                     -0.001528   \nAura: Maryuuin Kouga Saigo no Tatakai                               0.030921   \n\nName                                   ...  \\\nName                                   ...   \n\"Bungaku Shoujo\" Memoire               ...   \n\"Bungaku Shoujo\" Movie                 ...   \n.hack//G.U. Trilogy                    ...   \n.hack//Quantum                         ...   \n.hack//The Movie: Sekai no Mukou ni    ...   \n...                                    ...   \nAsobi Asobase Specials                 ...   \nAstro Boy: Tetsuwan Atom               ...   \nAsura                                  ...   \nAsura Cryin' 2                         ...   \nAura: Maryuuin Kouga Saigo no Tatakai  ...   \n\nName                                   ef: A Tale of Melodies. - Prologue  \\\nName                                                                        \n\"Bungaku Shoujo\" Memoire                                         0.084786   \n\"Bungaku Shoujo\" Movie                                           0.042501   \n.hack//G.U. Trilogy                                              0.005632   \n.hack//Quantum                                                   0.015412   \n.hack//The Movie: Sekai no Mukou ni                              0.018262   \n...                                                                   ...   \nAsobi Asobase Specials                                           0.000000   \nAstro Boy: Tetsuwan Atom                                         0.015914   \nAsura                                                            0.049702   \nAsura Cryin' 2                                                   0.012512   \nAura: Maryuuin Kouga Saigo no Tatakai                            0.031681   \n\nName                                   ef: A Tale of Memories.  \\\nName                                                             \n\"Bungaku Shoujo\" Memoire                              0.044391   \n\"Bungaku Shoujo\" Movie                                0.076004   \n.hack//G.U. Trilogy                                   0.009283   \n.hack//Quantum                                        0.022118   \n.hack//The Movie: Sekai no Mukou ni                   0.059345   \n...                                                        ...   \nAsobi Asobase Specials                               -0.043072   \nAstro Boy: Tetsuwan Atom                              0.046074   \nAsura                                                 0.051413   \nAsura Cryin' 2                                        0.043885   \nAura: Maryuuin Kouga Saigo no Tatakai                 0.081345   \n\nName                                   ef: A Tale of Memories. - Prologue  \\\nName                                                                        \n\"Bungaku Shoujo\" Memoire                                         0.005443   \n\"Bungaku Shoujo\" Movie                                           0.053636   \n.hack//G.U. Trilogy                                             -0.019646   \n.hack//Quantum                                                   0.045003   \n.hack//The Movie: Sekai no Mukou ni                              0.093210   \n...                                                                   ...   \nAsobi Asobase Specials                                           0.000000   \nAstro Boy: Tetsuwan Atom                                         0.077355   \nAsura                                                            0.033484   \nAsura Cryin' 2                                                   0.039457   \nAura: Maryuuin Kouga Saigo no Tatakai                           -0.031577   \n\nName                                   ef: A Tale of Memories. - Recollections  \\\nName                                                                             \n\"Bungaku Shoujo\" Memoire                                              0.027430   \n\"Bungaku Shoujo\" Movie                                                0.007858   \n.hack//G.U. Trilogy                                                   0.274228   \n.hack//Quantum                                                        0.018249   \n.hack//The Movie: Sekai no Mukou ni                                   0.023114   \n...                                                                        ...   \nAsobi Asobase Specials                                                0.000000   \nAstro Boy: Tetsuwan Atom                                              0.141542   \nAsura                                                                -0.014348   \nAsura Cryin' 2                                                        0.081194   \nAura: Maryuuin Kouga Saigo no Tatakai                                -0.019506   \n\nName                                   s.CRY.ed  xxxHOLiC  xxxHOLiC Kei  \\\nName                                                                      \n\"Bungaku Shoujo\" Memoire               0.000000  0.058842      0.065309   \n\"Bungaku Shoujo\" Movie                 0.042883  0.080809      0.095826   \n.hack//G.U. Trilogy                    0.019675  0.091245      0.112053   \n.hack//Quantum                         0.012796  0.106794      0.109664   \n.hack//The Movie: Sekai no Mukou ni    0.001112  0.049246      0.074493   \n...                                         ...       ...           ...   \nAsobi Asobase Specials                -0.043732  0.023212     -0.000848   \nAstro Boy: Tetsuwan Atom               0.221437  0.034872      0.102274   \nAsura                                  0.046032 -0.020545     -0.002181   \nAsura Cryin' 2                         0.163791  0.078924      0.092359   \nAura: Maryuuin Kouga Saigo no Tatakai  0.036099  0.028868      0.012189   \n\nName                                   xxxHOLiC Movie: Manatsu no Yoru no Yume  \\\nName                                                                             \n\"Bungaku Shoujo\" Memoire                                              0.101408   \n\"Bungaku Shoujo\" Movie                                                0.083229   \n.hack//G.U. Trilogy                                                   0.096234   \n.hack//Quantum                                                        0.109954   \n.hack//The Movie: Sekai no Mukou ni                                  -0.043373   \n...                                                                        ...   \nAsobi Asobase Specials                                                0.006608   \nAstro Boy: Tetsuwan Atom                                              0.074283   \nAsura                                                                 0.002755   \nAsura Cryin' 2                                                        0.118781   \nAura: Maryuuin Kouga Saigo no Tatakai                                 0.042325   \n\nName                                   xxxHOLiC Rou  xxxHOLiC Shunmuki  \nName                                                                    \n\"Bungaku Shoujo\" Memoire                   0.076395           0.066788  \n\"Bungaku Shoujo\" Movie                     0.085788           0.102067  \n.hack//G.U. Trilogy                        0.170714           0.128953  \n.hack//Quantum                             0.160206           0.124533  \n.hack//The Movie: Sekai no Mukou ni        0.101011           0.053701  \n...                                             ...                ...  \nAsobi Asobase Specials                    -0.030670          -0.017108  \nAstro Boy: Tetsuwan Atom                   0.025381           0.138660  \nAsura                                      0.053452           0.105830  \nAsura Cryin' 2                             0.121077           0.154306  \nAura: Maryuuin Kouga Saigo no Tatakai      0.058922           0.057766  \n\n[200 rows x 3674 columns]",
      "text/html": "<div>\n<style scoped>\n    .dataframe tbody tr th:only-of-type {\n        vertical-align: middle;\n    }\n\n    .dataframe tbody tr th {\n        vertical-align: top;\n    }\n\n    .dataframe thead th {\n        text-align: right;\n    }\n</style>\n<table border=\"1\" class=\"dataframe\">\n  <thead>\n    <tr style=\"text-align: right;\">\n      <th>Name</th>\n      <th>\"Bungaku Shoujo\" Memoire</th>\n      <th>\"Bungaku Shoujo\" Movie</th>\n      <th>.hack//G.U. Trilogy</th>\n      <th>.hack//Quantum</th>\n      <th>.hack//The Movie: Sekai no Mukou ni</th>\n      <th>07-Ghost</th>\n      <th>11-nin Iru!</th>\n      <th>3-gatsu no Lion</th>\n      <th>3-gatsu no Lion 2nd Season</th>\n      <th>3-gatsu no Lion meets Bump of Chicken</th>\n      <th>...</th>\n      <th>ef: A Tale of Melodies. - Prologue</th>\n      <th>ef: A Tale of Memories.</th>\n      <th>ef: A Tale of Memories. - Prologue</th>\n      <th>ef: A Tale of Memories. - Recollections</th>\n      <th>s.CRY.ed</th>\n      <th>xxxHOLiC</th>\n      <th>xxxHOLiC Kei</th>\n      <th>xxxHOLiC Movie: Manatsu no Yoru no Yume</th>\n      <th>xxxHOLiC Rou</th>\n      <th>xxxHOLiC Shunmuki</th>\n    </tr>\n    <tr>\n      <th>Name</th>\n      <th></th>\n      <th></th>\n      <th></th>\n      <th></th>\n      <th></th>\n      <th></th>\n      <th></th>\n      <th></th>\n      <th></th>\n      <th></th>\n      <th></th>\n      <th></th>\n      <th></th>\n      <th></th>\n      <th></th>\n      <th></th>\n      <th></th>\n      <th></th>\n      <th></th>\n      <th></th>\n      <th></th>\n    </tr>\n  </thead>\n  <tbody>\n    <tr>\n      <th>\"Bungaku Shoujo\" Memoire</th>\n      <td>1.000000</td>\n      <td>0.449992</td>\n      <td>0.077268</td>\n      <td>0.019007</td>\n      <td>0.022523</td>\n      <td>0.031480</td>\n      <td>0.063929</td>\n      <td>0.022810</td>\n      <td>0.000267</td>\n      <td>0.081941</td>\n      <td>...</td>\n      <td>0.084786</td>\n      <td>0.044391</td>\n      <td>0.005443</td>\n      <td>0.027430</td>\n      <td>0.000000</td>\n      <td>0.058842</td>\n      <td>0.065309</td>\n      <td>0.101408</td>\n      <td>0.076395</td>\n      <td>0.066788</td>\n    </tr>\n    <tr>\n      <th>\"Bungaku Shoujo\" Movie</th>\n      <td>0.449992</td>\n      <td>1.000000</td>\n      <td>0.036838</td>\n      <td>0.042507</td>\n      <td>-0.000399</td>\n      <td>0.015066</td>\n      <td>0.040884</td>\n      <td>-0.004411</td>\n      <td>0.005326</td>\n      <td>-0.015798</td>\n      <td>...</td>\n      <td>0.042501</td>\n      <td>0.076004</td>\n      <td>0.053636</td>\n      <td>0.007858</td>\n      <td>0.042883</td>\n      <td>0.080809</td>\n      <td>0.095826</td>\n      <td>0.083229</td>\n      <td>0.085788</td>\n      <td>0.102067</td>\n    </tr>\n    <tr>\n      <th>.hack//G.U. Trilogy</th>\n      <td>0.077268</td>\n      <td>0.036838</td>\n      <td>1.000000</td>\n      <td>0.244860</td>\n      <td>0.223819</td>\n      <td>0.112612</td>\n      <td>0.082477</td>\n      <td>0.193434</td>\n      <td>0.257176</td>\n      <td>-0.000809</td>\n      <td>...</td>\n      <td>0.005632</td>\n      <td>0.009283</td>\n      <td>-0.019646</td>\n      <td>0.274228</td>\n      <td>0.019675</td>\n      <td>0.091245</td>\n      <td>0.112053</td>\n      <td>0.096234</td>\n      <td>0.170714</td>\n      <td>0.128953</td>\n    </tr>\n    <tr>\n      <th>.hack//Quantum</th>\n      <td>0.019007</td>\n      <td>0.042507</td>\n      <td>0.244860</td>\n      <td>1.000000</td>\n      <td>0.298833</td>\n      <td>-0.000531</td>\n      <td>-0.137178</td>\n      <td>-0.026704</td>\n      <td>-0.004033</td>\n      <td>-0.007493</td>\n      <td>...</td>\n      <td>0.015412</td>\n      <td>0.022118</td>\n      <td>0.045003</td>\n      <td>0.018249</td>\n      <td>0.012796</td>\n      <td>0.106794</td>\n      <td>0.109664</td>\n      <td>0.109954</td>\n      <td>0.160206</td>\n      <td>0.124533</td>\n    </tr>\n    <tr>\n      <th>.hack//The Movie: Sekai no Mukou ni</th>\n      <td>0.022523</td>\n      <td>-0.000399</td>\n      <td>0.223819</td>\n      <td>0.298833</td>\n      <td>1.000000</td>\n      <td>0.015223</td>\n      <td>0.004819</td>\n      <td>-0.023694</td>\n      <td>-0.034214</td>\n      <td>-0.002623</td>\n      <td>...</td>\n      <td>0.018262</td>\n      <td>0.059345</td>\n      <td>0.093210</td>\n      <td>0.023114</td>\n      <td>0.001112</td>\n      <td>0.049246</td>\n      <td>0.074493</td>\n      <td>-0.043373</td>\n      <td>0.101011</td>\n      <td>0.053701</td>\n    </tr>\n    <tr>\n      <th>...</th>\n      <td>...</td>\n      <td>...</td>\n      <td>...</td>\n      <td>...</td>\n      <td>...</td>\n      <td>...</td>\n      <td>...</td>\n      <td>...</td>\n      <td>...</td>\n      <td>...</td>\n      <td>...</td>\n      <td>...</td>\n      <td>...</td>\n      <td>...</td>\n      <td>...</td>\n      <td>...</td>\n      <td>...</td>\n      <td>...</td>\n      <td>...</td>\n      <td>...</td>\n      <td>...</td>\n    </tr>\n    <tr>\n      <th>Asobi Asobase Specials</th>\n      <td>0.000000</td>\n      <td>0.000000</td>\n      <td>-0.026701</td>\n      <td>0.012692</td>\n      <td>0.000000</td>\n      <td>0.000000</td>\n      <td>-0.076260</td>\n      <td>0.015914</td>\n      <td>-0.018037</td>\n      <td>0.131412</td>\n      <td>...</td>\n      <td>0.000000</td>\n      <td>-0.043072</td>\n      <td>0.000000</td>\n      <td>0.000000</td>\n      <td>-0.043732</td>\n      <td>0.023212</td>\n      <td>-0.000848</td>\n      <td>0.006608</td>\n      <td>-0.030670</td>\n      <td>-0.017108</td>\n    </tr>\n    <tr>\n      <th>Astro Boy: Tetsuwan Atom</th>\n      <td>0.021590</td>\n      <td>-0.004776</td>\n      <td>0.027847</td>\n      <td>0.027310</td>\n      <td>0.032361</td>\n      <td>-0.017194</td>\n      <td>0.000000</td>\n      <td>0.068999</td>\n      <td>0.123735</td>\n      <td>-0.002286</td>\n      <td>...</td>\n      <td>0.015914</td>\n      <td>0.046074</td>\n      <td>0.077355</td>\n      <td>0.141542</td>\n      <td>0.221437</td>\n      <td>0.034872</td>\n      <td>0.102274</td>\n      <td>0.074283</td>\n      <td>0.025381</td>\n      <td>0.138660</td>\n    </tr>\n    <tr>\n      <th>Asura</th>\n      <td>0.020510</td>\n      <td>-0.009906</td>\n      <td>0.244212</td>\n      <td>0.102109</td>\n      <td>0.067012</td>\n      <td>0.006496</td>\n      <td>0.034948</td>\n      <td>0.123545</td>\n      <td>0.181973</td>\n      <td>-0.010782</td>\n      <td>...</td>\n      <td>0.049702</td>\n      <td>0.051413</td>\n      <td>0.033484</td>\n      <td>-0.014348</td>\n      <td>0.046032</td>\n      <td>-0.020545</td>\n      <td>-0.002181</td>\n      <td>0.002755</td>\n      <td>0.053452</td>\n      <td>0.105830</td>\n    </tr>\n    <tr>\n      <th>Asura Cryin' 2</th>\n      <td>0.014943</td>\n      <td>0.022397</td>\n      <td>0.010022</td>\n      <td>0.017021</td>\n      <td>0.027235</td>\n      <td>0.023463</td>\n      <td>0.000000</td>\n      <td>0.011956</td>\n      <td>-0.017033</td>\n      <td>-0.001528</td>\n      <td>...</td>\n      <td>0.012512</td>\n      <td>0.043885</td>\n      <td>0.039457</td>\n      <td>0.081194</td>\n      <td>0.163791</td>\n      <td>0.078924</td>\n      <td>0.092359</td>\n      <td>0.118781</td>\n      <td>0.121077</td>\n      <td>0.154306</td>\n    </tr>\n    <tr>\n      <th>Aura: Maryuuin Kouga Saigo no Tatakai</th>\n      <td>0.072681</td>\n      <td>0.042487</td>\n      <td>0.041466</td>\n      <td>0.081523</td>\n      <td>0.060819</td>\n      <td>0.021871</td>\n      <td>0.016068</td>\n      <td>0.026907</td>\n      <td>0.037599</td>\n      <td>0.030921</td>\n      <td>...</td>\n      <td>0.031681</td>\n      <td>0.081345</td>\n      <td>-0.031577</td>\n      <td>-0.019506</td>\n      <td>0.036099</td>\n      <td>0.028868</td>\n      <td>0.012189</td>\n      <td>0.042325</td>\n      <td>0.058922</td>\n      <td>0.057766</td>\n    </tr>\n  </tbody>\n</table>\n<p>200 rows × 3674 columns</p>\n</div>"
     },
     "execution_count": 24,
     "metadata": {},
     "output_type": "execute_result"
    }
   ],
   "source": [
    "item_similarity = cosine_similarity(table_std.T)\n",
    "item_similarity_df = pd.DataFrame(item_similarity, index=table.columns, columns=table.columns)\n",
    "item_similarity_df.head(200)"
   ],
   "metadata": {
    "collapsed": false,
    "pycharm": {
     "name": "#%%\n"
    }
   }
  },
  {
   "cell_type": "markdown",
   "source": [
    "Making list of new users preferences"
   ],
   "metadata": {
    "collapsed": false,
    "pycharm": {
     "name": "#%% md\n"
    }
   }
  },
  {
   "cell_type": "code",
   "execution_count": 19,
   "outputs": [],
   "source": [
    "anime_list = [(\"Naruto\", 10), ('Akame ga Kill!', 8), ('Baki', 9), ('Black Clover', 7) , ('Charlotte', 10), ('Grand Blue', 10), ('Bleach', 6), ('Kimi no Na wa.', 9), ('Death Note', 10), ('Kimetsu no Yaiba', 8), ('Hataraku Maou-sama!', 7), ('Tate no Yuusha no Nariagari', 10), ('One Punch Man', 9)]"
   ],
   "metadata": {
    "collapsed": false,
    "pycharm": {
     "name": "#%%\n"
    }
   }
  },
  {
   "cell_type": "markdown",
   "source": [
    "Turning to testing"
   ],
   "metadata": {
    "collapsed": false,
    "pycharm": {
     "name": "#%% md\n"
    }
   }
  },
  {
   "cell_type": "code",
   "execution_count": 25,
   "outputs": [
    {
     "name": "stderr",
     "output_type": "stream",
     "text": [
      "C:\\Users\\Asus\\AppData\\Local\\Temp\\ipykernel_9104\\606175884.py:4: FutureWarning: The frame.append method is deprecated and will be removed from pandas in a future version. Use pandas.concat instead.\n",
      "  similar_anime = similar_anime.append(get_similar_anime(anime, rating), ignore_index=True)\n",
      "C:\\Users\\Asus\\AppData\\Local\\Temp\\ipykernel_9104\\606175884.py:4: FutureWarning: The frame.append method is deprecated and will be removed from pandas in a future version. Use pandas.concat instead.\n",
      "  similar_anime = similar_anime.append(get_similar_anime(anime, rating), ignore_index=True)\n",
      "C:\\Users\\Asus\\AppData\\Local\\Temp\\ipykernel_9104\\606175884.py:4: FutureWarning: The frame.append method is deprecated and will be removed from pandas in a future version. Use pandas.concat instead.\n",
      "  similar_anime = similar_anime.append(get_similar_anime(anime, rating), ignore_index=True)\n"
     ]
    },
    {
     "ename": "KeyError",
     "evalue": "'Black Clover'",
     "output_type": "error",
     "traceback": [
      "\u001B[1;31m---------------------------------------------------------------------------\u001B[0m",
      "\u001B[1;31mKeyError\u001B[0m                                  Traceback (most recent call last)",
      "File \u001B[1;32mD:\\Python\\animeRecommender\\venv\\lib\\site-packages\\pandas\\core\\indexes\\base.py:3621\u001B[0m, in \u001B[0;36mIndex.get_loc\u001B[1;34m(self, key, method, tolerance)\u001B[0m\n\u001B[0;32m   3620\u001B[0m \u001B[38;5;28;01mtry\u001B[39;00m:\n\u001B[1;32m-> 3621\u001B[0m     \u001B[38;5;28;01mreturn\u001B[39;00m \u001B[38;5;28;43mself\u001B[39;49m\u001B[38;5;241;43m.\u001B[39;49m\u001B[43m_engine\u001B[49m\u001B[38;5;241;43m.\u001B[39;49m\u001B[43mget_loc\u001B[49m\u001B[43m(\u001B[49m\u001B[43mcasted_key\u001B[49m\u001B[43m)\u001B[49m\n\u001B[0;32m   3622\u001B[0m \u001B[38;5;28;01mexcept\u001B[39;00m \u001B[38;5;167;01mKeyError\u001B[39;00m \u001B[38;5;28;01mas\u001B[39;00m err:\n",
      "File \u001B[1;32mD:\\Python\\animeRecommender\\venv\\lib\\site-packages\\pandas\\_libs\\index.pyx:136\u001B[0m, in \u001B[0;36mpandas._libs.index.IndexEngine.get_loc\u001B[1;34m()\u001B[0m\n",
      "File \u001B[1;32mD:\\Python\\animeRecommender\\venv\\lib\\site-packages\\pandas\\_libs\\index.pyx:163\u001B[0m, in \u001B[0;36mpandas._libs.index.IndexEngine.get_loc\u001B[1;34m()\u001B[0m\n",
      "File \u001B[1;32mpandas\\_libs\\hashtable_class_helper.pxi:5198\u001B[0m, in \u001B[0;36mpandas._libs.hashtable.PyObjectHashTable.get_item\u001B[1;34m()\u001B[0m\n",
      "File \u001B[1;32mpandas\\_libs\\hashtable_class_helper.pxi:5206\u001B[0m, in \u001B[0;36mpandas._libs.hashtable.PyObjectHashTable.get_item\u001B[1;34m()\u001B[0m\n",
      "\u001B[1;31mKeyError\u001B[0m: 'Black Clover'",
      "\nThe above exception was the direct cause of the following exception:\n",
      "\u001B[1;31mKeyError\u001B[0m                                  Traceback (most recent call last)",
      "Input \u001B[1;32mIn [25]\u001B[0m, in \u001B[0;36m<cell line: 3>\u001B[1;34m()\u001B[0m\n\u001B[0;32m      1\u001B[0m similar_anime \u001B[38;5;241m=\u001B[39m pd\u001B[38;5;241m.\u001B[39mDataFrame()\n\u001B[0;32m      3\u001B[0m \u001B[38;5;28;01mfor\u001B[39;00m anime, rating \u001B[38;5;129;01min\u001B[39;00m anime_list:\n\u001B[1;32m----> 4\u001B[0m     similar_anime \u001B[38;5;241m=\u001B[39m similar_anime\u001B[38;5;241m.\u001B[39mappend(\u001B[43mget_similar_anime\u001B[49m\u001B[43m(\u001B[49m\u001B[43manime\u001B[49m\u001B[43m,\u001B[49m\u001B[43m \u001B[49m\u001B[43mrating\u001B[49m\u001B[43m)\u001B[49m, ignore_index\u001B[38;5;241m=\u001B[39m\u001B[38;5;28;01mTrue\u001B[39;00m)\n\u001B[0;32m      7\u001B[0m similar_anime \u001B[38;5;241m=\u001B[39m similar_anime\u001B[38;5;241m.\u001B[39msum()\u001B[38;5;241m.\u001B[39msort_values(ascending\u001B[38;5;241m=\u001B[39m\u001B[38;5;28;01mFalse\u001B[39;00m)\n",
      "Input \u001B[1;32mIn [23]\u001B[0m, in \u001B[0;36mget_similar_anime\u001B[1;34m(anime_name, anime_score)\u001B[0m\n\u001B[0;32m      1\u001B[0m \u001B[38;5;28;01mdef\u001B[39;00m \u001B[38;5;21mget_similar_anime\u001B[39m(anime_name, anime_score):\n\u001B[1;32m----> 2\u001B[0m     similar_score \u001B[38;5;241m=\u001B[39m \u001B[43mitem_similarity_df\u001B[49m\u001B[43m[\u001B[49m\u001B[43manime_name\u001B[49m\u001B[43m]\u001B[49m\u001B[38;5;241m*\u001B[39m(anime_score)\n\u001B[0;32m      3\u001B[0m     similar_score \u001B[38;5;241m=\u001B[39m similar_score\u001B[38;5;241m.\u001B[39msort_values(ascending\u001B[38;5;241m=\u001B[39m\u001B[38;5;28;01mFalse\u001B[39;00m)\n\u001B[0;32m      5\u001B[0m     \u001B[38;5;28;01mreturn\u001B[39;00m similar_score\n",
      "File \u001B[1;32mD:\\Python\\animeRecommender\\venv\\lib\\site-packages\\pandas\\core\\frame.py:3505\u001B[0m, in \u001B[0;36mDataFrame.__getitem__\u001B[1;34m(self, key)\u001B[0m\n\u001B[0;32m   3503\u001B[0m \u001B[38;5;28;01mif\u001B[39;00m \u001B[38;5;28mself\u001B[39m\u001B[38;5;241m.\u001B[39mcolumns\u001B[38;5;241m.\u001B[39mnlevels \u001B[38;5;241m>\u001B[39m \u001B[38;5;241m1\u001B[39m:\n\u001B[0;32m   3504\u001B[0m     \u001B[38;5;28;01mreturn\u001B[39;00m \u001B[38;5;28mself\u001B[39m\u001B[38;5;241m.\u001B[39m_getitem_multilevel(key)\n\u001B[1;32m-> 3505\u001B[0m indexer \u001B[38;5;241m=\u001B[39m \u001B[38;5;28;43mself\u001B[39;49m\u001B[38;5;241;43m.\u001B[39;49m\u001B[43mcolumns\u001B[49m\u001B[38;5;241;43m.\u001B[39;49m\u001B[43mget_loc\u001B[49m\u001B[43m(\u001B[49m\u001B[43mkey\u001B[49m\u001B[43m)\u001B[49m\n\u001B[0;32m   3506\u001B[0m \u001B[38;5;28;01mif\u001B[39;00m is_integer(indexer):\n\u001B[0;32m   3507\u001B[0m     indexer \u001B[38;5;241m=\u001B[39m [indexer]\n",
      "File \u001B[1;32mD:\\Python\\animeRecommender\\venv\\lib\\site-packages\\pandas\\core\\indexes\\base.py:3623\u001B[0m, in \u001B[0;36mIndex.get_loc\u001B[1;34m(self, key, method, tolerance)\u001B[0m\n\u001B[0;32m   3621\u001B[0m     \u001B[38;5;28;01mreturn\u001B[39;00m \u001B[38;5;28mself\u001B[39m\u001B[38;5;241m.\u001B[39m_engine\u001B[38;5;241m.\u001B[39mget_loc(casted_key)\n\u001B[0;32m   3622\u001B[0m \u001B[38;5;28;01mexcept\u001B[39;00m \u001B[38;5;167;01mKeyError\u001B[39;00m \u001B[38;5;28;01mas\u001B[39;00m err:\n\u001B[1;32m-> 3623\u001B[0m     \u001B[38;5;28;01mraise\u001B[39;00m \u001B[38;5;167;01mKeyError\u001B[39;00m(key) \u001B[38;5;28;01mfrom\u001B[39;00m \u001B[38;5;21;01merr\u001B[39;00m\n\u001B[0;32m   3624\u001B[0m \u001B[38;5;28;01mexcept\u001B[39;00m \u001B[38;5;167;01mTypeError\u001B[39;00m:\n\u001B[0;32m   3625\u001B[0m     \u001B[38;5;66;03m# If we have a listlike key, _check_indexing_error will raise\u001B[39;00m\n\u001B[0;32m   3626\u001B[0m     \u001B[38;5;66;03m#  InvalidIndexError. Otherwise we fall through and re-raise\u001B[39;00m\n\u001B[0;32m   3627\u001B[0m     \u001B[38;5;66;03m#  the TypeError.\u001B[39;00m\n\u001B[0;32m   3628\u001B[0m     \u001B[38;5;28mself\u001B[39m\u001B[38;5;241m.\u001B[39m_check_indexing_error(key)\n",
      "\u001B[1;31mKeyError\u001B[0m: 'Black Clover'"
     ]
    }
   ],
   "source": [
    "similar_anime = pd.DataFrame()\n",
    "\n",
    "for anime, rating in anime_list:\n",
    "    similar_anime = similar_anime.append(get_similar_anime(anime, rating), ignore_index=True)\n",
    "\n",
    "\n",
    "similar_anime = similar_anime.sum().sort_values(ascending=False)"
   ],
   "metadata": {
    "collapsed": false,
    "pycharm": {
     "name": "#%%\n"
    }
   }
  },
  {
   "cell_type": "code",
   "execution_count": 26,
   "outputs": [
    {
     "data": {
      "text/plain": "Name\nNaruto                                                             12.176066\nBaki                                                               10.155953\nAkame ga Kill!                                                     10.097779\nNaruto: Shippuuden                                                  5.797281\nTokyo Ghoul                                                         5.582982\n                                                                     ...    \nAikatsu Stars!                                                     -1.168202\nMaster Keaton                                                      -1.367042\nTsunpri                                                            -1.578159\nChikan Shita Joshi*sei to Sonogo, Musabori Au Youna Doero Junai    -1.907490\nShirobako Movie                                                    -2.078488\nLength: 3674, dtype: float64"
     },
     "execution_count": 26,
     "metadata": {},
     "output_type": "execute_result"
    }
   ],
   "source": [
    "similar_anime.sum().sort_values(ascending=False)"
   ],
   "metadata": {
    "collapsed": false,
    "pycharm": {
     "name": "#%%\n"
    }
   }
  },
  {
   "cell_type": "markdown",
   "source": [
    "Vuala saving result top 100 of them to docx"
   ],
   "metadata": {
    "collapsed": false,
    "pycharm": {
     "name": "#%% md\n"
    }
   }
  }
 ],
 "metadata": {
  "kernelspec": {
   "display_name": "Python 3",
   "language": "python",
   "name": "python3"
  },
  "language_info": {
   "codemirror_mode": {
    "name": "ipython",
    "version": 2
   },
   "file_extension": ".py",
   "mimetype": "text/x-python",
   "name": "python",
   "nbconvert_exporter": "python",
   "pygments_lexer": "ipython2",
   "version": "2.7.6"
  }
 },
 "nbformat": 4,
 "nbformat_minor": 0
}