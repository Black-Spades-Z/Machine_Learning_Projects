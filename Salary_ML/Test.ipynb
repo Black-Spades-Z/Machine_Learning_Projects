{
 "cells": [
  {
   "cell_type": "code",
   "execution_count": 1,
   "metadata": {
    "collapsed": true,
    "pycharm": {
     "name": "#%%\n"
    }
   },
   "outputs": [
    {
     "name": "stdout",
     "output_type": "stream",
     "text": [
      "<class 'pandas.core.frame.DataFrame'>\n",
      "RangeIndex: 8128 entries, 0 to 8127\n",
      "Data columns (total 13 columns):\n",
      " #   Column         Non-Null Count  Dtype  \n",
      "---  ------         --------------  -----  \n",
      " 0   name           8128 non-null   object \n",
      " 1   year           8128 non-null   int64  \n",
      " 2   selling_price  8128 non-null   int64  \n",
      " 3   km_driven      8128 non-null   int64  \n",
      " 4   fuel           8128 non-null   object \n",
      " 5   seller_type    8128 non-null   object \n",
      " 6   transmission   8128 non-null   object \n",
      " 7   owner          8128 non-null   object \n",
      " 8   mileage        7907 non-null   object \n",
      " 9   engine         7907 non-null   object \n",
      " 10  max_power      7913 non-null   object \n",
      " 11  torque         7906 non-null   object \n",
      " 12  seats          7907 non-null   float64\n",
      "dtypes: float64(1), int64(3), object(9)\n",
      "memory usage: 825.6+ KB\n"
     ]
    }
   ],
   "source": [
    "# Test\n",
    "\n",
    "import pandas as pd\n",
    "from sklearn.preprocessing import LabelEncoder\n",
    "\n",
    "# importing data\n",
    "\n",
    "df = pd.read_csv('Car details v3.csv')\n",
    "\n",
    "\n",
    "price = df['selling_price'] * 0.012872\n",
    "\n",
    "df.info()"
   ]
  },
  {
   "cell_type": "code",
   "execution_count": 2,
   "outputs": [
    {
     "data": {
      "text/plain": "   year  selling_price  km_driven    fuel transmission         owner   engine\n0  2014         450000     145500  Diesel       Manual   First Owner  1248 CC\n1  2014         370000     120000  Diesel       Manual  Second Owner  1498 CC\n2  2006         158000     140000  Petrol       Manual   Third Owner  1497 CC\n3  2010         225000     127000  Diesel       Manual   First Owner  1396 CC\n4  2007         130000     120000  Petrol       Manual   First Owner  1298 CC",
      "text/html": "<div>\n<style scoped>\n    .dataframe tbody tr th:only-of-type {\n        vertical-align: middle;\n    }\n\n    .dataframe tbody tr th {\n        vertical-align: top;\n    }\n\n    .dataframe thead th {\n        text-align: right;\n    }\n</style>\n<table border=\"1\" class=\"dataframe\">\n  <thead>\n    <tr style=\"text-align: right;\">\n      <th></th>\n      <th>year</th>\n      <th>selling_price</th>\n      <th>km_driven</th>\n      <th>fuel</th>\n      <th>transmission</th>\n      <th>owner</th>\n      <th>engine</th>\n    </tr>\n  </thead>\n  <tbody>\n    <tr>\n      <th>0</th>\n      <td>2014</td>\n      <td>450000</td>\n      <td>145500</td>\n      <td>Diesel</td>\n      <td>Manual</td>\n      <td>First Owner</td>\n      <td>1248 CC</td>\n    </tr>\n    <tr>\n      <th>1</th>\n      <td>2014</td>\n      <td>370000</td>\n      <td>120000</td>\n      <td>Diesel</td>\n      <td>Manual</td>\n      <td>Second Owner</td>\n      <td>1498 CC</td>\n    </tr>\n    <tr>\n      <th>2</th>\n      <td>2006</td>\n      <td>158000</td>\n      <td>140000</td>\n      <td>Petrol</td>\n      <td>Manual</td>\n      <td>Third Owner</td>\n      <td>1497 CC</td>\n    </tr>\n    <tr>\n      <th>3</th>\n      <td>2010</td>\n      <td>225000</td>\n      <td>127000</td>\n      <td>Diesel</td>\n      <td>Manual</td>\n      <td>First Owner</td>\n      <td>1396 CC</td>\n    </tr>\n    <tr>\n      <th>4</th>\n      <td>2007</td>\n      <td>130000</td>\n      <td>120000</td>\n      <td>Petrol</td>\n      <td>Manual</td>\n      <td>First Owner</td>\n      <td>1298 CC</td>\n    </tr>\n  </tbody>\n</table>\n</div>"
     },
     "execution_count": 2,
     "metadata": {},
     "output_type": "execute_result"
    }
   ],
   "source": [
    "# Dropping data\n",
    "\n",
    "\n",
    "df.drop(['name', 'seller_type', 'mileage', 'max_power', 'torque','seats'], axis='columns', inplace=True)\n",
    "df.dropna(inplace=True)\n",
    "\n",
    "df.head()"
   ],
   "metadata": {
    "collapsed": false,
    "pycharm": {
     "name": "#%%\n"
    }
   }
  },
  {
   "cell_type": "code",
   "execution_count": 3,
   "outputs": [
    {
     "name": "stdout",
     "output_type": "stream",
     "text": [
      "<class 'pandas.core.frame.DataFrame'>\n",
      "Int64Index: 7907 entries, 0 to 8127\n",
      "Data columns (total 7 columns):\n",
      " #   Column         Non-Null Count  Dtype \n",
      "---  ------         --------------  ----- \n",
      " 0   year           7907 non-null   int64 \n",
      " 1   selling_price  7907 non-null   int64 \n",
      " 2   km_driven      7907 non-null   int64 \n",
      " 3   fuel           7907 non-null   object\n",
      " 4   transmission   7907 non-null   object\n",
      " 5   owner          7907 non-null   object\n",
      " 6   engine         7907 non-null   object\n",
      "dtypes: int64(3), object(4)\n",
      "memory usage: 494.2+ KB\n"
     ]
    }
   ],
   "source": [
    "df.info()"
   ],
   "metadata": {
    "collapsed": false,
    "pycharm": {
     "name": "#%%\n"
    }
   }
  },
  {
   "cell_type": "code",
   "execution_count": 4,
   "outputs": [
    {
     "data": {
      "text/plain": "Manual       6866\nAutomatic    1041\nName: transmission, dtype: int64"
     },
     "execution_count": 4,
     "metadata": {},
     "output_type": "execute_result"
    }
   ],
   "source": [
    "# Data analys\n",
    "\n",
    "\n",
    "df['transmission'].value_counts()"
   ],
   "metadata": {
    "collapsed": false,
    "pycharm": {
     "name": "#%%\n"
    }
   }
  },
  {
   "cell_type": "code",
   "execution_count": 5,
   "outputs": [],
   "source": [
    "# Label encoding for fuel\n",
    "\n",
    "label = LabelEncoder()\n",
    "\n",
    "fuel_lb = pd.DataFrame(label.fit_transform(df.fuel), columns=['fuel'])\n",
    "\n",
    "# Label encoding for transmission\n",
    "\n",
    "transmission_lb = pd.DataFrame(label.fit_transform(df.transmission), columns=['transmission'])\n",
    "\n",
    "# Label encoding for owner\n",
    "\n",
    "owner_lb = pd.DataFrame(label.fit_transform(df.owner), columns=['owner'])\n",
    "\n",
    "# Label encoding for engine\n",
    "\n",
    "engine_lb = pd.DataFrame(label.fit_transform(df.engine), columns=['engine'])\n",
    "\n"
   ],
   "metadata": {
    "collapsed": false,
    "pycharm": {
     "name": "#%%\n"
    }
   }
  },
  {
   "cell_type": "code",
   "execution_count": 6,
   "outputs": [
    {
     "name": "stdout",
     "output_type": "stream",
     "text": [
      "<class 'pandas.core.frame.DataFrame'>\n",
      "RangeIndex: 7907 entries, 0 to 7906\n",
      "Data columns (total 1 columns):\n",
      " #   Column  Non-Null Count  Dtype\n",
      "---  ------  --------------  -----\n",
      " 0   engine  7907 non-null   int32\n",
      "dtypes: int32(1)\n",
      "memory usage: 31.0 KB\n"
     ]
    }
   ],
   "source": [
    "engine_lb.info()"
   ],
   "metadata": {
    "collapsed": false,
    "pycharm": {
     "name": "#%%\n"
    }
   }
  },
  {
   "cell_type": "code",
   "execution_count": 7,
   "outputs": [],
   "source": [
    "# Dropping useless data\n",
    "\n",
    "df.drop(columns= ['owner', 'transmission', 'engine', 'fuel'], inplace=True)\n"
   ],
   "metadata": {
    "collapsed": false,
    "pycharm": {
     "name": "#%%\n"
    }
   }
  },
  {
   "cell_type": "code",
   "execution_count": 8,
   "outputs": [
    {
     "data": {
      "text/plain": "     year  selling_price  km_driven  fuel  transmission  owner  engine\n0  2014.0       450000.0   145500.0   1.0           1.0    0.0    13.0\n1  2014.0       370000.0   120000.0   1.0           1.0    2.0    36.0\n2  2006.0       158000.0   140000.0   3.0           1.0    4.0    35.0\n3  2010.0       225000.0   127000.0   1.0           1.0    0.0    24.0\n4  2007.0       130000.0   120000.0   3.0           1.0    0.0    14.0",
      "text/html": "<div>\n<style scoped>\n    .dataframe tbody tr th:only-of-type {\n        vertical-align: middle;\n    }\n\n    .dataframe tbody tr th {\n        vertical-align: top;\n    }\n\n    .dataframe thead th {\n        text-align: right;\n    }\n</style>\n<table border=\"1\" class=\"dataframe\">\n  <thead>\n    <tr style=\"text-align: right;\">\n      <th></th>\n      <th>year</th>\n      <th>selling_price</th>\n      <th>km_driven</th>\n      <th>fuel</th>\n      <th>transmission</th>\n      <th>owner</th>\n      <th>engine</th>\n    </tr>\n  </thead>\n  <tbody>\n    <tr>\n      <th>0</th>\n      <td>2014.0</td>\n      <td>450000.0</td>\n      <td>145500.0</td>\n      <td>1.0</td>\n      <td>1.0</td>\n      <td>0.0</td>\n      <td>13.0</td>\n    </tr>\n    <tr>\n      <th>1</th>\n      <td>2014.0</td>\n      <td>370000.0</td>\n      <td>120000.0</td>\n      <td>1.0</td>\n      <td>1.0</td>\n      <td>2.0</td>\n      <td>36.0</td>\n    </tr>\n    <tr>\n      <th>2</th>\n      <td>2006.0</td>\n      <td>158000.0</td>\n      <td>140000.0</td>\n      <td>3.0</td>\n      <td>1.0</td>\n      <td>4.0</td>\n      <td>35.0</td>\n    </tr>\n    <tr>\n      <th>3</th>\n      <td>2010.0</td>\n      <td>225000.0</td>\n      <td>127000.0</td>\n      <td>1.0</td>\n      <td>1.0</td>\n      <td>0.0</td>\n      <td>24.0</td>\n    </tr>\n    <tr>\n      <th>4</th>\n      <td>2007.0</td>\n      <td>130000.0</td>\n      <td>120000.0</td>\n      <td>3.0</td>\n      <td>1.0</td>\n      <td>0.0</td>\n      <td>14.0</td>\n    </tr>\n  </tbody>\n</table>\n</div>"
     },
     "execution_count": 8,
     "metadata": {},
     "output_type": "execute_result"
    }
   ],
   "source": [
    "# Joining datasets\n",
    "\n",
    "new_df = df.join([fuel_lb, transmission_lb, owner_lb,engine_lb])\n",
    "\n",
    "new_df.head()\n"
   ],
   "metadata": {
    "collapsed": false,
    "pycharm": {
     "name": "#%%\n"
    }
   }
  },
  {
   "cell_type": "code",
   "execution_count": 10,
   "outputs": [
    {
     "name": "stdout",
     "output_type": "stream",
     "text": [
      "<class 'pandas.core.frame.DataFrame'>\n",
      "Int64Index: 7907 entries, 0 to 8127\n",
      "Data columns (total 7 columns):\n",
      " #   Column         Non-Null Count  Dtype  \n",
      "---  ------         --------------  -----  \n",
      " 0   year           7907 non-null   float64\n",
      " 1   selling_price  7907 non-null   float64\n",
      " 2   km_driven      7907 non-null   float64\n",
      " 3   fuel           7690 non-null   float64\n",
      " 4   transmission   7690 non-null   float64\n",
      " 5   owner          7690 non-null   float64\n",
      " 6   engine         7690 non-null   float64\n",
      "dtypes: float64(7)\n",
      "memory usage: 752.2 KB\n"
     ]
    }
   ],
   "source": [
    "new_df.info()"
   ],
   "metadata": {
    "collapsed": false,
    "pycharm": {
     "name": "#%%\n"
    }
   }
  },
  {
   "cell_type": "code",
   "execution_count": 11,
   "outputs": [
    {
     "name": "stdout",
     "output_type": "stream",
     "text": [
      "<class 'pandas.core.frame.DataFrame'>\n",
      "Int64Index: 7690 entries, 0 to 7689\n",
      "Data columns (total 7 columns):\n",
      " #   Column         Non-Null Count  Dtype  \n",
      "---  ------         --------------  -----  \n",
      " 0   year           7690 non-null   float64\n",
      " 1   selling_price  7690 non-null   float64\n",
      " 2   km_driven      7690 non-null   float64\n",
      " 3   fuel           7690 non-null   float64\n",
      " 4   transmission   7690 non-null   float64\n",
      " 5   owner          7690 non-null   float64\n",
      " 6   engine         7690 non-null   float64\n",
      "dtypes: float64(7)\n",
      "memory usage: 480.6 KB\n"
     ]
    }
   ],
   "source": [
    "# Creating a model\n",
    "\n",
    "\n",
    "new_df.reset_index(drop=True, inplace=True)\n",
    "new_df.dropna(inplace=True)\n",
    "new_df.info()"
   ],
   "metadata": {
    "collapsed": false,
    "pycharm": {
     "name": "#%%\n"
    }
   }
  },
  {
   "cell_type": "code",
   "execution_count": 12,
   "outputs": [
    {
     "name": "stdout",
     "output_type": "stream",
     "text": [
      "<class 'pandas.core.series.Series'>\n",
      "Int64Index: 7690 entries, 0 to 7689\n",
      "Series name: selling_price\n",
      "Non-Null Count  Dtype  \n",
      "--------------  -----  \n",
      "7690 non-null   float64\n",
      "dtypes: float64(1)\n",
      "memory usage: 120.2 KB\n"
     ]
    }
   ],
   "source": [
    "price = new_df['selling_price']\n",
    "price.info()"
   ],
   "metadata": {
    "collapsed": false,
    "pycharm": {
     "name": "#%%\n"
    }
   }
  }
 ],
 "metadata": {
  "kernelspec": {
   "display_name": "Python 3",
   "language": "python",
   "name": "python3"
  },
  "language_info": {
   "codemirror_mode": {
    "name": "ipython",
    "version": 2
   },
   "file_extension": ".py",
   "mimetype": "text/x-python",
   "name": "python",
   "nbconvert_exporter": "python",
   "pygments_lexer": "ipython2",
   "version": "2.7.6"
  }
 },
 "nbformat": 4,
 "nbformat_minor": 0
}